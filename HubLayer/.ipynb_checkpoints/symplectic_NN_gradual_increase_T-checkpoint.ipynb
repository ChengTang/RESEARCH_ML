{
 "cells": [
  {
   "cell_type": "code",
   "execution_count": null,
   "metadata": {},
   "outputs": [],
   "source": [
    "#Unsupervised Learning\n",
    "class PendulumNet(torch.nn.Module):\n",
    "    def __init__(self, D_in, H, D_out):\n",
    "        super(PendulumNet, self).__init__()\n",
    "        self.input = nn.Linear(D_in, H)\n",
    "        self.fc1 = nn.Linear(H, H)\n",
    "        self.fc2 = nn.Linear(H, H)\n",
    "        self.out = nn.Linear(H, D_out)\n",
    "\n",
    "    def forward(self, X):\n",
    "        X = torch.sin(self.input(X))\n",
    "        X = torch.tanh(self.fc1(X))\n",
    "        X = torch.tanh(self.fc2(X))\n",
    "        \n",
    "        X = self.out(X)\n",
    "        return X\n"
   ]
  },
  {
   "cell_type": "code",
   "execution_count": null,
   "metadata": {},
   "outputs": [],
   "source": [
    "#Unsupervised Learning\n",
    "class PendulumNet(torch.nn.Module):\n",
    "    def __init__(self, D_in, H, D_out):\n",
    "        super(PendulumNet, self).__init__()\n",
    "        self.input = nn.Linear(D_in, H)\n",
    "        self.fc1 = nn.Linear(H, H)\n",
    "        self.fc2 = nn.Linear(H, H)\n",
    "        self.out = nn.Linear(H, D_out)\n",
    "\n",
    "    def forward(self, X):\n",
    "        X = torch.sin(self.input(X))\n",
    "        X = torch.tanh(self.fc1(X))\n",
    "        X = torch.tanh(self.fc2(X))\n",
    "        \n",
    "        X = self.out(X)\n",
    "        return X\n"
   ]
  },
  {
   "cell_type": "code",
   "execution_count": null,
   "metadata": {},
   "outputs": [],
   "source": [
    "m = 1.\n",
    "L = 1.\n",
    "g = 1.\n",
    "T = 10.0\n",
    "\n",
    "theta0 = math.pi/5\n",
    "p0 = 1\n",
    "H0 = p0**2/(2*m*L**2) + m*g*L*(1 - np.cos(theta0))\n",
    "\n",
    "model_pendulum = PendulumNet(1, 64, 2)\n",
    "\n",
    "#model_pendulum_p = PendulumNet(1, 64, 1)\n"
   ]
  }
 ],
 "metadata": {
  "kernelspec": {
   "display_name": "torch_and_tensorflow",
   "language": "python",
   "name": "torch_and_tensorflow"
  },
  "language_info": {
   "codemirror_mode": {
    "name": "ipython",
    "version": 3
   },
   "file_extension": ".py",
   "mimetype": "text/x-python",
   "name": "python",
   "nbconvert_exporter": "python",
   "pygments_lexer": "ipython3",
   "version": "3.7.3"
  }
 },
 "nbformat": 4,
 "nbformat_minor": 2
}
