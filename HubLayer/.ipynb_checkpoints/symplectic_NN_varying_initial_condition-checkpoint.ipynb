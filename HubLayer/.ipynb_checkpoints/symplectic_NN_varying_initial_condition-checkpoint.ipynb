{
 "cells": [
  {
   "cell_type": "code",
   "execution_count": 237,
   "metadata": {},
   "outputs": [],
   "source": [
    "import torch\n",
    "import numpy as np\n",
    "import matplotlib.pyplot as plt\n",
    "from torch.utils.data import Dataset, DataLoader\n",
    "import os\n",
    "import torch.nn as nn\n",
    "import torch.nn.functional as F\n",
    "import math\n",
    "\n",
    "torch.set_default_tensor_type(torch.DoubleTensor)\n",
    "\n",
    "%matplotlib inline"
   ]
  },
  {
   "cell_type": "code",
   "execution_count": 238,
   "metadata": {},
   "outputs": [],
   "source": [
    "m = 1.\n",
    "L = 1.\n",
    "g = 1.\n",
    "T = 10.\n",
    "\n",
    "theta0 = math.pi/6\n",
    "p0 = 1\n",
    "H0 = p0**2/(2*m*L**2) + m*g*L*(1 - np.cos(theta0))\n",
    "\n",
    "model_pendulum = PendulumNet(1, 64, 2)\n",
    "\n",
    "#model_pendulum_p = PendulumNet(1, 64, 1)\n",
    "\n",
    "\n",
    "#theta0 = math.pi/5\n",
    "#p0 = 1\n",
    "#H0 = p0**2/(2*m*L**2) + m*g*L*(1 - np.cos(theta0))\n",
    "\n",
    "def yoshida4(thetai, vi, dt):\n",
    "    c1 = 0.6756035959798289\n",
    "    c2 = -0.17560359597982877\n",
    "    c3 = c2\n",
    "    c4 = c1\n",
    "    d1 = 2*c1\n",
    "    d3 = d1\n",
    "    d2 = 2*(c3 - c1)\n",
    "    \n",
    "    thetai1 = thetai + c1 * vi * dt\n",
    "    vi1 = vi + d1 * (-g/L) * np.sin(thetai1)*dt\n",
    "    thetai2 = thetai1 + c2*vi1 * dt\n",
    "    vi2 = vi1 + d2 * (-g/L) * np.sin(thetai2)*dt\n",
    "    thetai3 = thetai2 + c3 * vi2 * dt\n",
    "    vi3 = vi2 + d3 * (-g/L) * np.sin(thetai3)*dt  \n",
    "    \n",
    "    thetaf = thetai3 + c4 * vi3 *dt\n",
    "    vf = vi3\n",
    "    \n",
    "    return thetaf, vf\n",
    "\n",
    "def random_uniform_phase_space(N):\n",
    "    pmax = 4\n",
    "    thetamax = np.pi/2.1\n",
    "    thetais = np.random.uniform(-thetamax, thetamax, N)\n",
    "    ps = np.random.uniform(-pmax,pmax,N)\n",
    "    return thetais, ps\n",
    "\n",
    "def random_same_energy(N):\n",
    "    E0 = -0.0008\n",
    "    vimax = np.sqrt(2*(m*g*L+E0)/(L**2*m))\n",
    "    vis = np.random.uniform(-vimax, vimax, N)\n",
    "    thetais = np.arccos((1/2.*m*(L*vis)**2-E0)/(m*g*L)) * (-1)**((np.random.random(N) < 0.5).astype('int'))\n",
    "    \n",
    "    return thetais, vis\n",
    "\n",
    "def single_pendulum_data(T, dt, N = 10, mode = 0):\n",
    "    \n",
    "\n",
    "    if(mode == 0):\n",
    "        thetais, pis = random_same_energy(N)\n",
    "    else:\n",
    "        thetais, pis = random_uniform_phase_space(N)\n",
    "\n",
    "    max_step = int(T/dt)\n",
    "\n",
    "    thetas = thetais.copy()\n",
    "    ps = pis.copy()\n",
    "\n",
    "    steps = np.sort(np.random.randint(low = 1, high = max_step+1, size = N))\n",
    "\n",
    "    for i in range(max_step):\n",
    "        ind = np.searchsorted(steps, i+1, side = 'left')\n",
    "        print(thetas)\n",
    "        thetas[ind:], ps[ind:] = yoshida4(thetas[ind:], ps[ind:], dt)\n",
    "\n",
    "    ts = steps * dt\n",
    "    \n",
    "    return thetais, pis, thetas, ps, ts\n"
   ]
  },
  {
   "cell_type": "markdown",
   "metadata": {},
   "source": [
    "###### produce one epoch of training data..\n",
    "thetais, pis, thetafs, pfs = single_pendulum_data(0.1, dt, N = 100, mode = 0)\n",
    "\n",
    "plt.scatter(thetais, pis)\n",
    "plt.scatter(thetafs, pfs, marker = '*')"
   ]
  },
  {
   "cell_type": "markdown",
   "metadata": {},
   "source": [
    "#### Model"
   ]
  },
  {
   "cell_type": "code",
   "execution_count": 284,
   "metadata": {},
   "outputs": [],
   "source": [
    "class PendulumNet(torch.nn.Module):\n",
    "    def __init__(self, D_in, H, D_out):\n",
    "        super(PendulumNet, self).__init__()\n",
    "        self.input = nn.Linear(D_in, H)\n",
    "        self.fc1 = nn.Linear(H, H)\n",
    "        self.fc2 = nn.Linear(H, H)\n",
    "        self.out = nn.Linear(H, D_out)\n",
    "\n",
    "    def forward(self, X):\n",
    "        X = torch.sin(self.input(X))\n",
    "        X = torch.tanh(self.fc1(X))\n",
    "        X = torch.tanh(self.fc2(X))\n",
    "        \n",
    "        X = self.out(X)\n",
    "        return X\n",
    "\n",
    "model_pendulum_seq = PendulumNet(3, 64, 2)\n"
   ]
  },
  {
   "cell_type": "code",
   "execution_count": 285,
   "metadata": {},
   "outputs": [
    {
     "data": {
      "image/png": "[encoded data removed]",
      "text/plain": [
       "<Figure size 432x288 with 1 Axes>"
      ]
     },
     "metadata": {
      "needs_background": "light"
     },
     "output_type": "display_data"
    }
   ],
   "source": [
    "theta0, p0 = random_same_energy(batch_size)\n",
    "plt.scatter(theta0,p0)\n",
    "theta0s = torch.Tensor(theta0).reshape(-1,1)\n",
    "p0s = torch.Tensor(p0).reshape(-1,1)\n",
    "\n",
    "#theta0s = torch.Tensor(np.ones(batch_size)*theta0).reshape(-1,1)\n",
    "#p0s = torch.Tensor(np.ones(batch_size)*p0).reshape(-1,1)\n"
   ]
  },
  {
   "cell_type": "code",
   "execution_count": 286,
   "metadata": {},
   "outputs": [],
   "source": [
    "np.random.seed(0)"
   ]
  },
  {
   "cell_type": "code",
   "execution_count": 289,
   "metadata": {},
   "outputs": [],
   "source": [
    "num_epochs = 50000\n",
    "batch_size = 120\n",
    "n_train = 600\n",
    "learning_rate = 1e-6\n",
    "\n",
    "criterion = nn.MSELoss()\n",
    "optimizer = torch.optim.Adam(model_pendulum_seq.parameters(), lr = learning_rate, weight_decay = 2e-6)\n"
   ]
  },
  {
   "cell_type": "code",
   "execution_count": 290,
   "metadata": {},
   "outputs": [
    {
     "name": "stdout",
     "output_type": "stream",
     "text": [
      "epoch [1/50000], loss eqns of motion:0.0000040721039181\n",
      "epoch [1000/50000], loss eqns of motion:0.0000035011439715\n",
      "epoch [2000/50000], loss eqns of motion:0.0000019037739593\n",
      "epoch [3000/50000], loss eqns of motion:0.0000040142261109\n"
     ]
    },
    {
     "ename": "KeyboardInterrupt",
     "evalue": "",
     "output_type": "error",
     "traceback": [
      "\u001b[0;31m---------------------------------------------------------------------------\u001b[0m",
      "\u001b[0;31mKeyboardInterrupt\u001b[0m                         Traceback (most recent call last)",
      "\u001b[0;32m<ipython-input-290-0fab8e970744>\u001b[0m in \u001b[0;36m<module>\u001b[0;34m\u001b[0m\n\u001b[1;32m     59\u001b[0m \u001b[0;34m\u001b[0m\u001b[0m\n\u001b[1;32m     60\u001b[0m         \u001b[0;31m## use auto diff for d_H_d_p and d_H_d_theta\u001b[0m\u001b[0;34m\u001b[0m\u001b[0;34m\u001b[0m\u001b[0;34m\u001b[0m\u001b[0m\n\u001b[0;32m---> 61\u001b[0;31m         \u001b[0md_H_d_p\u001b[0m\u001b[0;34m,\u001b[0m \u001b[0;34m=\u001b[0m \u001b[0mtorch\u001b[0m\u001b[0;34m.\u001b[0m\u001b[0mautograd\u001b[0m\u001b[0;34m.\u001b[0m\u001b[0mgrad\u001b[0m\u001b[0;34m(\u001b[0m\u001b[0mH\u001b[0m\u001b[0;34m,\u001b[0m \u001b[0mp\u001b[0m\u001b[0;34m,\u001b[0m \u001b[0mH\u001b[0m\u001b[0;34m.\u001b[0m\u001b[0mnew\u001b[0m\u001b[0;34m(\u001b[0m\u001b[0mH\u001b[0m\u001b[0;34m.\u001b[0m\u001b[0mshape\u001b[0m\u001b[0;34m)\u001b[0m\u001b[0;34m.\u001b[0m\u001b[0mfill_\u001b[0m\u001b[0;34m(\u001b[0m\u001b[0;36m1\u001b[0m\u001b[0;34m)\u001b[0m\u001b[0;34m,\u001b[0m\u001b[0mcreate_graph\u001b[0m \u001b[0;34m=\u001b[0m \u001b[0;32mTrue\u001b[0m\u001b[0;34m)\u001b[0m\u001b[0;34m\u001b[0m\u001b[0;34m\u001b[0m\u001b[0m\n\u001b[0m\u001b[1;32m     62\u001b[0m         \u001b[0md_H_d_theta\u001b[0m\u001b[0;34m,\u001b[0m \u001b[0;34m=\u001b[0m \u001b[0mtorch\u001b[0m\u001b[0;34m.\u001b[0m\u001b[0mautograd\u001b[0m\u001b[0;34m.\u001b[0m\u001b[0mgrad\u001b[0m\u001b[0;34m(\u001b[0m\u001b[0mH\u001b[0m\u001b[0;34m,\u001b[0m \u001b[0mtheta\u001b[0m\u001b[0;34m,\u001b[0m \u001b[0mH\u001b[0m\u001b[0;34m.\u001b[0m\u001b[0mnew\u001b[0m\u001b[0;34m(\u001b[0m\u001b[0mH\u001b[0m\u001b[0;34m.\u001b[0m\u001b[0mshape\u001b[0m\u001b[0;34m)\u001b[0m\u001b[0;34m.\u001b[0m\u001b[0mfill_\u001b[0m\u001b[0;34m(\u001b[0m\u001b[0;36m1\u001b[0m\u001b[0;34m)\u001b[0m\u001b[0;34m,\u001b[0m\u001b[0mcreate_graph\u001b[0m \u001b[0;34m=\u001b[0m \u001b[0;32mTrue\u001b[0m\u001b[0;34m)\u001b[0m\u001b[0;34m\u001b[0m\u001b[0;34m\u001b[0m\u001b[0m\n\u001b[1;32m     63\u001b[0m \u001b[0;34m\u001b[0m\u001b[0m\n",
      "\u001b[0;32m/anaconda3/envs/symplectic/lib/python3.7/site-packages/torch/autograd/__init__.py\u001b[0m in \u001b[0;36mgrad\u001b[0;34m(outputs, inputs, grad_outputs, retain_graph, create_graph, only_inputs, allow_unused)\u001b[0m\n\u001b[1;32m    147\u001b[0m     return Variable._execution_engine.run_backward(\n\u001b[1;32m    148\u001b[0m         \u001b[0moutputs\u001b[0m\u001b[0;34m,\u001b[0m \u001b[0mgrad_outputs\u001b[0m\u001b[0;34m,\u001b[0m \u001b[0mretain_graph\u001b[0m\u001b[0;34m,\u001b[0m \u001b[0mcreate_graph\u001b[0m\u001b[0;34m,\u001b[0m\u001b[0;34m\u001b[0m\u001b[0;34m\u001b[0m\u001b[0m\n\u001b[0;32m--> 149\u001b[0;31m         inputs, allow_unused)\n\u001b[0m\u001b[1;32m    150\u001b[0m \u001b[0;34m\u001b[0m\u001b[0m\n\u001b[1;32m    151\u001b[0m \u001b[0;34m\u001b[0m\u001b[0m\n",
      "\u001b[0;31mKeyboardInterrupt\u001b[0m: "
     ]
    }
   ],
   "source": [
    "\n",
    "regularize_energy = False\n",
    "# Start training\n",
    "batches = 1\n",
    "tbatch_size = num_epochs/batches\n",
    "\n",
    "for epoch in range(num_epochs):\n",
    "    tbatch = T/batches\n",
    "    batchNum = int(epoch/tbatch_size)\n",
    "    \n",
    "    ### fit everything in one shot\n",
    "    tt = np.random.uniform(0, T, n_train) \n",
    "    ###\n",
    "    \n",
    "    ### progressively increase T\n",
    "    #tt = np.random.uniform(0, (batchNum+1) * tbatch, n_train)\n",
    "    ###\n",
    "    \n",
    "    #### same initial condition\n",
    "    #theta0, p0 = random_uniform_phase_space(1)\n",
    "    #theta0, p0  = np.repeat(theta0, n_train), np.repeat(p0, n_train)\n",
    "    ####\n",
    "    \n",
    "    #### fix initial condition\n",
    "    theta0,p0 = np.array([math.pi/5]), np.array([1])\n",
    "    theta0, p0  = np.repeat(theta0, n_train), np.repeat(p0, n_train)\n",
    "    ####\n",
    "    \n",
    "    #### n_train different initial conditions\n",
    "    #theta0,p0 = random_same_energy(n_train)\n",
    "    ####\n",
    "    \n",
    "    \n",
    "    \n",
    "    X = torch.Tensor(np.vstack((theta0, p0, tt)).T)\n",
    "\n",
    "    #X.requires_grad_(True)\n",
    "    \n",
    "    for i in range(int(len(tt)/batch_size)):\n",
    "        \n",
    "        Xi = X[i*batch_size:(i+1)*batch_size].clone()\n",
    "        tt = Xi[:,2]\n",
    "        tt.requires_grad_(True)\n",
    "        \n",
    "        # forward\n",
    "        theta = Xi[:,0] + model_pendulum_seq(Xi)[:,0].clone() * tt\n",
    "        p = Xi[:,1] + model_pendulum_seq(Xi)[:,1].clone() * tt\n",
    "        \n",
    "        d_theta_d_t, = torch.autograd.grad(theta, tt, theta.new(theta.shape).fill_(1), create_graph = True)\n",
    "        d_p_d_t, = torch.autograd.grad(p, tt, p.new(p.shape).fill_(1), create_graph = True)\n",
    "        \n",
    "        \n",
    "        p.retain_grad()\n",
    "        theta.retain_grad()\n",
    "\n",
    "        H = p**2/(2*m*L**2) + m*g*L*(1 - torch.cos(theta))\n",
    "        \n",
    "        #H = p**2/(2*m*L**2) + m*g*L*(theta**2/2.)\n",
    "\n",
    "        ## use auto diff for d_H_d_p and d_H_d_theta\n",
    "        d_H_d_p, = torch.autograd.grad(H, p, H.new(H.shape).fill_(1),create_graph = True)\n",
    "        d_H_d_theta, = torch.autograd.grad(H, theta, H.new(H.shape).fill_(1),create_graph = True)\n",
    "        \n",
    "        \n",
    "        loss_eqn = criterion(d_p_d_t, - d_H_d_theta) + criterion(d_theta_d_t, d_H_d_p)\n",
    "        \n",
    "        if(regularize_energy == True):\n",
    "            loss_energy = criterion(H, H.new(H.shape).fill_(H0))\n",
    "            loss = loss_eqn + 1/2. * (loss_eqn.data/loss_energy.data) * loss_energy\n",
    "            \n",
    "        else:\n",
    "            loss = loss_eqn\n",
    "\n",
    "        optimizer.zero_grad()\n",
    "        loss.backward(retain_graph = True)\n",
    "        optimizer.step()\n",
    "\n",
    "    if( (epoch+1) % (num_epochs/50) ==0 or epoch == 0):\n",
    "        print('epoch [{}/{}], loss eqns of motion:{:.16f}'.format(epoch + 1, num_epochs, loss_eqn.data))\n",
    "    if(regularize_energy == True):\n",
    "        print('epoch [{}/{}], loss energy:{:.16f}'.format(epoch + 1, num_epochs, loss_energy.data))\n",
    "        '''\n",
    "        Nstep = n_train\n",
    "        #tt = np.arange(Nstep+1) * T/Nstep\n",
    "        tt = np.random.uniform(0, (batchNum+1) * tbatch, n_train)\n",
    "        tt = torch.Tensor(tt.reshape(-1,1))\n",
    "        \n",
    "        plt.figure(figsize = (10,7))\n",
    "        skip = 5\n",
    "        \n",
    "        for i in range(len(theta0s)):\n",
    "            theta_ =  theta0s.data[i].detach().numpy()[0] + model_pendulum_seq(tt)[:,0].clone().reshape(-1,1)*tt\n",
    "            p_ = p0s.data[i].detach().numpy()[0] + model_pendulum_seq(tt)[:,1].clone().reshape(-1,1)*tt\n",
    "            plt.scatter(theta_.detach().numpy()[::skip], p_.detach().numpy()[::skip], alpha = 0.3)\n",
    "        \n",
    "        plt.scatter(theta0s.detach().numpy(), p0s.detach().numpy(), color = 'k', marker = 'x', s = 100)\n",
    "        \n",
    "        plt.title('phase space plot NN')\n",
    "        plt.xlabel('theta')\n",
    "        plt.ylabel('p_theta')\n",
    "        plt.show()\n",
    "        '''"
   ]
  },
  {
   "cell_type": "code",
   "execution_count": 264,
   "metadata": {},
   "outputs": [
    {
     "data": {
      "text/plain": [
       "array([-2.1827148, -2.1827148, -2.1827148, -2.1827148, -2.1827148,\n",
       "       -2.1827148, -2.1827148, -2.1827148, -2.1827148, -2.1827148,\n",
       "       -2.1827148, -2.1827148, -2.1827148, -2.1827148, -2.1827148,\n",
       "       -2.1827148, -2.1827148, -2.1827148, -2.1827148, -2.1827148,\n",
       "       -2.1827148, -2.1827148, -2.1827148, -2.1827148, -2.1827148,\n",
       "       -2.1827148, -2.1827148, -2.1827148, -2.1827148, -2.1827148,\n",
       "       -2.1827148, -2.1827148, -2.1827148, -2.1827148, -2.1827148,\n",
       "       -2.1827148, -2.1827148, -2.1827148, -2.1827148, -2.1827148,\n",
       "       -2.1827148, -2.1827148, -2.1827148, -2.1827148, -2.1827148,\n",
       "       -2.1827148, -2.1827148, -2.1827148, -2.1827148, -2.1827148,\n",
       "       -2.1827148, -2.1827148, -2.1827148, -2.1827148, -2.1827148,\n",
       "       -2.1827148, -2.1827148, -2.1827148, -2.1827148, -2.1827148,\n",
       "       -2.1827148, -2.1827148, -2.1827148, -2.1827148, -2.1827148,\n",
       "       -2.1827148, -2.1827148, -2.1827148, -2.1827148, -2.1827148,\n",
       "       -2.1827148, -2.1827148, -2.1827148, -2.1827148, -2.1827148,\n",
       "       -2.1827148, -2.1827148, -2.1827148, -2.1827148, -2.1827148,\n",
       "       -2.1827148, -2.1827148, -2.1827148, -2.1827148, -2.1827148,\n",
       "       -2.1827148, -2.1827148, -2.1827148, -2.1827148, -2.1827148,\n",
       "       -2.1827148, -2.1827148, -2.1827148, -2.1827148, -2.1827148,\n",
       "       -2.1827148, -2.1827148, -2.1827148, -2.1827148, -2.1827148,\n",
       "       -2.1827148, -2.1827148, -2.1827148, -2.1827148, -2.1827148,\n",
       "       -2.1827148, -2.1827148, -2.1827148, -2.1827148, -2.1827148,\n",
       "       -2.1827148, -2.1827148, -2.1827148, -2.1827148, -2.1827148,\n",
       "       -2.1827148, -2.1827148, -2.1827148, -2.1827148, -2.1827148,\n",
       "       -2.1827148, -2.1827148, -2.1827148, -2.1827148, -2.1827148,\n",
       "       -2.1827148, -2.1827148, -2.1827148, -2.1827148, -2.1827148,\n",
       "       -2.1827148, -2.1827148, -2.1827148, -2.1827148, -2.1827148,\n",
       "       -2.1827148, -2.1827148, -2.1827148, -2.1827148, -2.1827148,\n",
       "       -2.1827148, -2.1827148, -2.1827148, -2.1827148, -2.1827148,\n",
       "       -2.1827148, -2.1827148, -2.1827148, -2.1827148, -2.1827148,\n",
       "       -2.1827148, -2.1827148, -2.1827148, -2.1827148, -2.1827148,\n",
       "       -2.1827148, -2.1827148, -2.1827148, -2.1827148, -2.1827148,\n",
       "       -2.1827148, -2.1827148, -2.1827148, -2.1827148, -2.1827148,\n",
       "       -2.1827148, -2.1827148, -2.1827148, -2.1827148, -2.1827148,\n",
       "       -2.1827148, -2.1827148, -2.1827148, -2.1827148, -2.1827148,\n",
       "       -2.1827148, -2.1827148, -2.1827148, -2.1827148, -2.1827148,\n",
       "       -2.1827148, -2.1827148, -2.1827148, -2.1827148, -2.1827148,\n",
       "       -2.1827148, -2.1827148, -2.1827148, -2.1827148, -2.1827148,\n",
       "       -2.1827148, -2.1827148, -2.1827148, -2.1827148, -2.1827148,\n",
       "       -2.1827148, -2.1827148, -2.1827148, -2.1827148, -2.1827148,\n",
       "       -2.1827148, -2.1827148, -2.1827148, -2.1827148, -2.1827148,\n",
       "       -2.1827148, -2.1827148, -2.1827148, -2.1827148, -2.1827148,\n",
       "       -2.1827148, -2.1827148, -2.1827148, -2.1827148, -2.1827148,\n",
       "       -2.1827148, -2.1827148, -2.1827148, -2.1827148, -2.1827148,\n",
       "       -2.1827148, -2.1827148, -2.1827148, -2.1827148, -2.1827148,\n",
       "       -2.1827148, -2.1827148, -2.1827148, -2.1827148, -2.1827148,\n",
       "       -2.1827148, -2.1827148, -2.1827148, -2.1827148, -2.1827148,\n",
       "       -2.1827148, -2.1827148, -2.1827148, -2.1827148, -2.1827148,\n",
       "       -2.1827148, -2.1827148, -2.1827148, -2.1827148, -2.1827148,\n",
       "       -2.1827148, -2.1827148, -2.1827148, -2.1827148, -2.1827148,\n",
       "       -2.1827148, -2.1827148, -2.1827148, -2.1827148, -2.1827148,\n",
       "       -2.1827148, -2.1827148, -2.1827148, -2.1827148, -2.1827148,\n",
       "       -2.1827148, -2.1827148, -2.1827148, -2.1827148, -2.1827148,\n",
       "       -2.1827148, -2.1827148, -2.1827148, -2.1827148, -2.1827148,\n",
       "       -2.1827148, -2.1827148, -2.1827148, -2.1827148, -2.1827148,\n",
       "       -2.1827148, -2.1827148, -2.1827148, -2.1827148, -2.1827148,\n",
       "       -2.1827148, -2.1827148, -2.1827148, -2.1827148, -2.1827148,\n",
       "       -2.1827148, -2.1827148, -2.1827148, -2.1827148, -2.1827148,\n",
       "       -2.1827148, -2.1827148, -2.1827148, -2.1827148, -2.1827148,\n",
       "       -2.1827148, -2.1827148, -2.1827148, -2.1827148, -2.1827148,\n",
       "       -2.1827148, -2.1827148, -2.1827148, -2.1827148, -2.1827148,\n",
       "       -2.1827148, -2.1827148, -2.1827148, -2.1827148, -2.1827148,\n",
       "       -2.1827148, -2.1827148, -2.1827148, -2.1827148, -2.1827148,\n",
       "       -2.1827148, -2.1827148, -2.1827148, -2.1827148, -2.1827148,\n",
       "       -2.1827148, -2.1827148, -2.1827148, -2.1827148, -2.1827148,\n",
       "       -2.1827148, -2.1827148, -2.1827148, -2.1827148, -2.1827148,\n",
       "       -2.1827148, -2.1827148, -2.1827148, -2.1827148, -2.1827148,\n",
       "       -2.1827148, -2.1827148, -2.1827148, -2.1827148, -2.1827148,\n",
       "       -2.1827148, -2.1827148, -2.1827148, -2.1827148, -2.1827148,\n",
       "       -2.1827148, -2.1827148, -2.1827148, -2.1827148, -2.1827148,\n",
       "       -2.1827148, -2.1827148, -2.1827148, -2.1827148, -2.1827148,\n",
       "       -2.1827148, -2.1827148, -2.1827148, -2.1827148, -2.1827148,\n",
       "       -2.1827148, -2.1827148, -2.1827148, -2.1827148, -2.1827148,\n",
       "       -2.1827148, -2.1827148, -2.1827148, -2.1827148, -2.1827148,\n",
       "       -2.1827148, -2.1827148, -2.1827148, -2.1827148, -2.1827148,\n",
       "       -2.1827148, -2.1827148, -2.1827148, -2.1827148, -2.1827148,\n",
       "       -2.1827148, -2.1827148, -2.1827148, -2.1827148, -2.1827148,\n",
       "       -2.1827148, -2.1827148, -2.1827148, -2.1827148, -2.1827148,\n",
       "       -2.1827148, -2.1827148, -2.1827148, -2.1827148, -2.1827148,\n",
       "       -2.1827148, -2.1827148, -2.1827148, -2.1827148, -2.1827148,\n",
       "       -2.1827148, -2.1827148, -2.1827148, -2.1827148, -2.1827148,\n",
       "       -2.1827148, -2.1827148, -2.1827148, -2.1827148, -2.1827148,\n",
       "       -2.1827148, -2.1827148, -2.1827148, -2.1827148, -2.1827148,\n",
       "       -2.1827148, -2.1827148, -2.1827148, -2.1827148, -2.1827148,\n",
       "       -2.1827148, -2.1827148, -2.1827148, -2.1827148, -2.1827148,\n",
       "       -2.1827148, -2.1827148, -2.1827148, -2.1827148, -2.1827148,\n",
       "       -2.1827148, -2.1827148, -2.1827148, -2.1827148, -2.1827148,\n",
       "       -2.1827148, -2.1827148, -2.1827148, -2.1827148, -2.1827148,\n",
       "       -2.1827148, -2.1827148, -2.1827148, -2.1827148, -2.1827148,\n",
       "       -2.1827148, -2.1827148, -2.1827148, -2.1827148, -2.1827148,\n",
       "       -2.1827148, -2.1827148, -2.1827148, -2.1827148, -2.1827148,\n",
       "       -2.1827148, -2.1827148, -2.1827148, -2.1827148, -2.1827148,\n",
       "       -2.1827148, -2.1827148, -2.1827148, -2.1827148, -2.1827148,\n",
       "       -2.1827148, -2.1827148, -2.1827148, -2.1827148, -2.1827148,\n",
       "       -2.1827148, -2.1827148, -2.1827148, -2.1827148, -2.1827148,\n",
       "       -2.1827148, -2.1827148, -2.1827148, -2.1827148, -2.1827148,\n",
       "       -2.1827148, -2.1827148, -2.1827148, -2.1827148, -2.1827148,\n",
       "       -2.1827148, -2.1827148, -2.1827148, -2.1827148, -2.1827148,\n",
       "       -2.1827148, -2.1827148, -2.1827148, -2.1827148, -2.1827148,\n",
       "       -2.1827148, -2.1827148, -2.1827148, -2.1827148, -2.1827148,\n",
       "       -2.1827148, -2.1827148, -2.1827148, -2.1827148, -2.1827148,\n",
       "       -2.1827148, -2.1827148, -2.1827148, -2.1827148, -2.1827148,\n",
       "       -2.1827148, -2.1827148, -2.1827148, -2.1827148, -2.1827148,\n",
       "       -2.1827148, -2.1827148, -2.1827148, -2.1827148, -2.1827148,\n",
       "       -2.1827148, -2.1827148, -2.1827148, -2.1827148, -2.1827148,\n",
       "       -2.1827148, -2.1827148, -2.1827148, -2.1827148, -2.1827148,\n",
       "       -2.1827148, -2.1827148, -2.1827148, -2.1827148, -2.1827148,\n",
       "       -2.1827148, -2.1827148, -2.1827148, -2.1827148, -2.1827148,\n",
       "       -2.1827148, -2.1827148, -2.1827148, -2.1827148, -2.1827148,\n",
       "       -2.1827148, -2.1827148, -2.1827148, -2.1827148, -2.1827148,\n",
       "       -2.1827148, -2.1827148, -2.1827148, -2.1827148, -2.1827148,\n",
       "       -2.1827148, -2.1827148, -2.1827148, -2.1827148, -2.1827148,\n",
       "       -2.1827148, -2.1827148, -2.1827148, -2.1827148, -2.1827148,\n",
       "       -2.1827148, -2.1827148, -2.1827148, -2.1827148, -2.1827148,\n",
       "       -2.1827148, -2.1827148, -2.1827148, -2.1827148, -2.1827148,\n",
       "       -2.1827148, -2.1827148, -2.1827148, -2.1827148, -2.1827148,\n",
       "       -2.1827148, -2.1827148, -2.1827148, -2.1827148, -2.1827148,\n",
       "       -2.1827148, -2.1827148, -2.1827148, -2.1827148, -2.1827148,\n",
       "       -2.1827148, -2.1827148, -2.1827148, -2.1827148, -2.1827148,\n",
       "       -2.1827148, -2.1827148, -2.1827148, -2.1827148, -2.1827148])"
      ]
     },
     "execution_count": 264,
     "metadata": {},
     "output_type": "execute_result"
    }
   ],
   "source": [
    "p0"
   ]
  },
  {
   "cell_type": "code",
   "execution_count": 94,
   "metadata": {},
   "outputs": [
    {
     "data": {
      "text/plain": [
       "<matplotlib.collections.PathCollection at 0x11fe13748>"
      ]
     },
     "execution_count": 94,
     "metadata": {},
     "output_type": "execute_result"
    },
    {
     "data": {
      "image/png": "[encoded data removed]",
      "text/plain": [
       "<Figure size 432x288 with 1 Axes>"
      ]
     },
     "metadata": {
      "needs_background": "light"
     },
     "output_type": "display_data"
    }
   ],
   "source": [
    "theta0, p0 = random_uniform_phase_space(n_train)\n",
    "plt.scatter(theta0, p0)"
   ]
  },
  {
   "cell_type": "code",
   "execution_count": 90,
   "metadata": {},
   "outputs": [],
   "source": [
    "model_diff_energy = model_pendulum_seq"
   ]
  },
  {
   "cell_type": "markdown",
   "metadata": {},
   "source": [
    "##### loss eqns of motion:0.00001734"
   ]
  },
  {
   "cell_type": "code",
   "execution_count": 96,
   "metadata": {},
   "outputs": [
    {
     "data": {
      "image/png": "[encoded data removed]",
      "text/plain": [
       "<Figure size 1440x1008 with 1 Axes>"
      ]
     },
     "metadata": {
      "needs_background": "light"
     },
     "output_type": "display_data"
    }
   ],
   "source": [
    "#test model_same_energy\n",
    "\n",
    "tt = np.random.uniform(0, 2*T, n_train)\n",
    "plt.figure(figsize = (20,14))\n",
    "for i in range(1):\n",
    "    theta0, p0 = random_uniform_phase_space(1)\n",
    "    plt.scatter(theta0, p0, color = 'k', marker = 'x', s = 100)\n",
    "\n",
    "    theta0 =np.repeat(theta0,n_train)\n",
    "    p0 =np.repeat(p0,n_train)\n",
    "    \n",
    "    X = torch.Tensor(np.vstack((theta0, p0, tt)).T)\n",
    "\n",
    "    end = model_diff_energy(X)\n",
    "    thetaf = X[:,0] + model_diff_energy(X)[:,0].clone() * X[:,2]\n",
    "    pf = X[:,1] + model_diff_energy(X)[:,1].clone() * X[:,2]\n",
    "    \n",
    "    plt.scatter(thetaf.detach().numpy(), pf.detach().numpy(), s= 1)\n",
    "    "
   ]
  },
  {
   "cell_type": "code",
   "execution_count": null,
   "metadata": {},
   "outputs": [],
   "source": []
  }
 ],
 "metadata": {
  "kernelspec": {
   "display_name": "torch_and_tensorflow",
   "language": "python",
   "name": "torch_and_tensorflow"
  },
  "language_info": {
   "codemirror_mode": {
    "name": "ipython",
    "version": 3
   },
   "file_extension": ".py",
   "mimetype": "text/x-python",
   "name": "python",
   "nbconvert_exporter": "python",
   "pygments_lexer": "ipython3",
   "version": "3.7.3"
  }
 },
 "nbformat": 4,
 "nbformat_minor": 2
}
