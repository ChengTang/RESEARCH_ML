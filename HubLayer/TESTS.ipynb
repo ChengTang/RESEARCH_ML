{
 "cells": [
  {
   "cell_type": "code",
   "execution_count": 1,
   "metadata": {},
   "outputs": [],
   "source": [
    "import torch\n",
    "import numpy as np\n",
    "import matplotlib.pyplot as plt\n",
    "from torch.utils.data import Dataset, DataLoader\n",
    "import os\n",
    "import torch.nn as nn\n",
    "import torch.nn.functional as F"
   ]
  },
  {
   "cell_type": "code",
   "execution_count": 2,
   "metadata": {},
   "outputs": [
    {
     "name": "stdout",
     "output_type": "stream",
     "text": [
      "tensor([[2., 4.]], requires_grad=True)\n",
      "tensor([[1., 3.]], grad_fn=<SubBackward0>)\n",
      "tensor([10.], grad_fn=<SumBackward2>)\n",
      "tensor([[2., 6.]], grad_fn=<MulBackward0>)\n",
      "tensor([[2., 2.]])\n"
     ]
    }
   ],
   "source": [
    "# test autograd.grad\n",
    "t = torch.Tensor([[2,4]])\n",
    "t.requires_grad_(True)\n",
    "x = t - 1\n",
    "y = torch.sum(x**2,dim = 1)\n",
    "dy_dx, = torch.autograd.grad(y ,x, y.new(y.shape).fill_(1),create_graph = True)\n",
    "\n",
    "print(t)\n",
    "print(x)\n",
    "print(y)\n",
    "print(dy_dx)\n",
    "dy_dx.backward(torch.tensor((), dtype=torch.float32).new_ones(x.shape))\n",
    "print(t.grad)"
   ]
  },
  {
   "cell_type": "code",
   "execution_count": null,
   "metadata": {},
   "outputs": [],
   "source": []
  }
 ],
 "metadata": {
  "kernelspec": {
   "display_name": "torch_and_tensorflow",
   "language": "python",
   "name": "torch_and_tensorflow"
  },
  "language_info": {
   "codemirror_mode": {
    "name": "ipython",
    "version": 3
   },
   "file_extension": ".py",
   "mimetype": "text/x-python",
   "name": "python",
   "nbconvert_exporter": "python",
   "pygments_lexer": "ipython3",
   "version": "3.7.3"
  }
 },
 "nbformat": 4,
 "nbformat_minor": 2
}
