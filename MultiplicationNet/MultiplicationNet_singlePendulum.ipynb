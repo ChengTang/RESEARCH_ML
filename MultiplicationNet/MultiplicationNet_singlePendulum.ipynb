{
 "cells": [
  {
   "cell_type": "code",
   "execution_count": 1,
   "metadata": {},
   "outputs": [],
   "source": [
    "import torch\n",
    "import numpy as np\n",
    "import matplotlib.pyplot as plt\n",
    "from torch.utils.data import Dataset, DataLoader\n",
    "import os\n",
    "import torch.nn as nn\n",
    "import torch.nn.functional as F\n",
    "import math\n",
    "from torch.autograd import Variable\n",
    "\n",
    "\n",
    "torch.set_default_tensor_type(torch.DoubleTensor)\n",
    "\n",
    "%matplotlib inline"
   ]
  },
  {
   "cell_type": "markdown",
   "metadata": {},
   "source": [
    "## Data-single pendulum"
   ]
  },
  {
   "cell_type": "code",
   "execution_count": 405,
   "metadata": {},
   "outputs": [],
   "source": [
    "#Physical Parameters\n",
    "m = 1.\n",
    "L = 1.\n",
    "g = 10.\n",
    "T = 10*(2*np.pi*np.sqrt(L/g)) # integrate till T\n",
    "Nsteps = 50000 \n",
    "dt = T/Nsteps\n",
    "\n",
    "pmax = 4\n",
    "thetamax = np.pi/2.1#np.pi/6.\n",
    "\n",
    "# 4th order yoshida\n",
    "def yoshida4(thetai, vi, dt):\n",
    "    c1 = 0.6756035959798289\n",
    "    c2 = -0.17560359597982877\n",
    "    c3 = c2\n",
    "    c4 = c1\n",
    "    d1 = 2*c1\n",
    "    d3 = d1\n",
    "    d2 = 2*(c3 - c1)\n",
    "    \n",
    "    thetai1 = thetai + c1 * vi * dt\n",
    "    vi1 = vi + d1 * (-g/L) * np.sin(thetai1)*dt\n",
    "    thetai2 = thetai1 + c2*vi1 * dt\n",
    "    vi2 = vi1 + d2 * (-g/L) * np.sin(thetai2)*dt\n",
    "    thetai3 = thetai2 + c3 * vi2 * dt\n",
    "    vi3 = vi2 + d3 * (-g/L) * np.sin(thetai3)*dt  \n",
    "    \n",
    "    thetaf = thetai3 + c4 * vi3 *dt\n",
    "    vf = vi3\n",
    "    \n",
    "    return thetaf, vf\n",
    "\n",
    "\n",
    "# N initial points integrate till T\n",
    "# mode = 0 : same energy\n",
    "# mode = 1 : different energy\n",
    "def single_pendulum_data(T, dt, N = 10, mode = 0):\n",
    "    \n",
    "    def random_uniform_phase_space(N):\n",
    "        thetais = np.random.uniform(-thetamax, thetamax, N)\n",
    "        ps = np.random.uniform(-pmax,pmax,N)\n",
    "        return thetais, ps\n",
    "    \n",
    "    def random_same_energy(N):\n",
    "        E0 = -0.0008\n",
    "        vimax = np.sqrt(2*(m*g*L+E0)/(L**2*m))\n",
    "        vis = np.random.uniform(-vimax, vimax, N)\n",
    "        thetais = np.arccos((1/2.*m*(L*vis)**2-E0)/(m*g*L)) * (-1)**((np.random.random(N) < 0.5).astype('int'))\n",
    "        #vis = np.random.uniform(1, vimax, N)\n",
    "        #thetais = np.arccos((1/2.*m*(L*vis)**2-E0)/(m*g*L)) \n",
    "        return thetais, vis\n",
    "\n",
    "    if(mode == 0):\n",
    "        thetais, pis = random_same_energy(N)\n",
    "    else:\n",
    "        thetais, pis = random_uniform_phase_space(N)\n",
    "    \n",
    "    steps = int(T/dt)\n",
    "    \n",
    "    thetas = thetais.copy()\n",
    "    ps = pis.copy()\n",
    "    \n",
    "    for i in range(steps):\n",
    "        thetas, ps = yoshida4(thetas, ps, dt)\n",
    "    \n",
    "    #print('Integrated '+str(steps)+' time steps')\n",
    "\n",
    "    return thetais, pis, thetas, ps"
   ]
  },
  {
   "cell_type": "code",
   "execution_count": 409,
   "metadata": {},
   "outputs": [
    {
     "data": {
      "text/plain": [
       "<matplotlib.collections.PathCollection at 0x11f2ed160>"
      ]
     },
     "execution_count": 409,
     "metadata": {},
     "output_type": "execute_result"
    },
    {
     "data": {
      "image/png": "[encoded data removed]",
      "text/plain": [
       "<Figure size 432x288 with 1 Axes>"
      ]
     },
     "metadata": {
      "needs_background": "light"
     },
     "output_type": "display_data"
    }
   ],
   "source": [
    "# produce one epoch of training data..\n",
    "thetais, pis, thetafs, pfs = single_pendulum_data(0.1, dt, N = 100, mode = 0)\n",
    "\n",
    "plt.scatter(thetais, pis)\n",
    "plt.scatter(thetafs, pfs, marker = '*')"
   ]
  },
  {
   "cell_type": "code",
   "execution_count": 410,
   "metadata": {},
   "outputs": [
    {
     "data": {
      "text/plain": [
       "<matplotlib.collections.PathCollection at 0x11f539048>"
      ]
     },
     "execution_count": 410,
     "metadata": {},
     "output_type": "execute_result"
    },
    {
     "data": {
      "image/png": "[encoded data removed]",
      "text/plain": [
       "<Figure size 432x288 with 1 Axes>"
      ]
     },
     "metadata": {
      "needs_background": "light"
     },
     "output_type": "display_data"
    }
   ],
   "source": [
    "# produce one epoch of training data..\n",
    "thetais, pis, thetafs, pfs = single_pendulum_data(0.1, dt, N = 100, mode = 1)\n",
    "\n",
    "plt.scatter(thetais, pis)\n",
    "plt.scatter(thetafs, pfs, marker = '*')"
   ]
  },
  {
   "cell_type": "markdown",
   "metadata": {},
   "source": [
    "## Multiplication Net"
   ]
  },
  {
   "cell_type": "code",
   "execution_count": 411,
   "metadata": {},
   "outputs": [],
   "source": [
    "# just use alpha = 1(exp) and alpha = -1(ln)\n",
    "class soft_exponential(torch.nn.Module):\n",
    "\n",
    "    def __init__(self, alpha = 0):\n",
    "        super(soft_exponential, self).__init__()\n",
    "        \n",
    "        #alpha = np.random.uniform(low = -1., high = 1.)\n",
    "        alpha = torch.Tensor([alpha])\n",
    "                \n",
    "        self.alpha = alpha#nn.Parameter(alpha)\n",
    "    \n",
    "    def forward(self, x):\n",
    "        if(self.alpha<0):\n",
    "            return -torch.log(1-self.alpha*(x+self.alpha))/self.alpha\n",
    "        elif(self.alpha==0):\n",
    "            return x\n",
    "        else:\n",
    "            return (torch.exp(self.alpha*x) - 1)/self.alpha + self.alpha\n"
   ]
  },
  {
   "cell_type": "code",
   "execution_count": 383,
   "metadata": {},
   "outputs": [],
   "source": [
    "class MultiplicationNet(torch.nn.Module):\n",
    "    \n",
    "    def __init__(self, D_in, H, D_out):\n",
    "        super(MultiplicationNet, self).__init__()\n",
    "        \n",
    "        self.log = soft_exponential(-1)\n",
    "        \n",
    "        self.input = nn.Linear(D_in, H)\n",
    "        \n",
    "        self.input2 = nn.Linear(D_in, H)\n",
    "        \n",
    "        self.exp = soft_exponential(1)\n",
    "        \n",
    "        self.h1 = nn.Linear(H,D_in)\n",
    "        \n",
    "        self.out = nn.Linear((D_in + H), D_out)\n",
    "        \n",
    "\n",
    "    def forward(self, X):\n",
    "        X1 = self.input(X)\n",
    "        \n",
    "        ###### multiplication block #####\n",
    "        X = self.log(torch.FloatTensor.abs(X))\n",
    "\n",
    "        X = self.input2(X)\n",
    "        \n",
    "        X = self.exp(X)\n",
    "        ###### multiplication block #####\n",
    "        X = torch.sin(self.h1(X))\n",
    "\n",
    "        X = torch.cat((X, X1), 1)\n",
    "\n",
    "        X = self.out(X)\n",
    "        \n",
    "        return X"
   ]
  },
  {
   "cell_type": "code",
   "execution_count": 413,
   "metadata": {},
   "outputs": [],
   "source": [
    "#Physical Parameters\n",
    "m = 1.\n",
    "L = 1.\n",
    "g = 10.\n",
    "T = 0.1\n",
    "Nsteps = 50\n",
    "dt = T/Nsteps\n",
    "\n",
    "pmax = 1.0\n",
    "thetamax = np.pi/6.\n"
   ]
  },
  {
   "cell_type": "code",
   "execution_count": 414,
   "metadata": {},
   "outputs": [],
   "source": [
    "num_epochs = 10000\n",
    "n_train = 300\n",
    "batch_size = 30\n",
    "learning_rate = 1e-4"
   ]
  },
  {
   "cell_type": "code",
   "execution_count": 415,
   "metadata": {},
   "outputs": [
    {
     "name": "stdout",
     "output_type": "stream",
     "text": [
      "input.weight tensor([[ 0.1570,  0.2857],\n",
      "        [ 0.2719, -0.6855],\n",
      "        [ 0.5761,  0.6771],\n",
      "        [-0.1943,  0.3445]])\n",
      "input.bias tensor([-0.5642,  0.5939, -0.4721,  0.6623])\n",
      "h1.weight tensor([[ 0.1373,  0.0823,  0.2612, -0.4480],\n",
      "        [ 0.4473, -0.4686, -0.0772,  0.4216],\n",
      "        [ 0.1505,  0.2889,  0.1082, -0.2635],\n",
      "        [-0.4550, -0.0208, -0.2275, -0.0032]])\n",
      "h1.bias tensor([-0.3706, -0.2369,  0.3797, -0.3966])\n",
      "out.weight tensor([[-0.3323,  0.4929,  0.3211,  0.1545],\n",
      "        [-0.2517, -0.1421,  0.1568, -0.0533]])\n",
      "out.bias tensor([ 0.0074, -0.3717])\n"
     ]
    }
   ],
   "source": [
    "model = MultiplicationNet(2, 4, 2)\n",
    "for name, param in model.named_parameters():\n",
    "    if param.requires_grad:\n",
    "        print (name, param.data)\n",
    "\n",
    "criterion = nn.MSELoss()\n",
    "optimizer = torch.optim.Adam(model.parameters(), lr=learning_rate, weight_decay=1e-5)"
   ]
  },
  {
   "cell_type": "code",
   "execution_count": 416,
   "metadata": {},
   "outputs": [
    {
     "name": "stdout",
     "output_type": "stream",
     "text": [
      "epoch [1000/10000], loss:0.000536303899\n",
      "input.weight tensor([[ 0.6137,  0.3352],\n",
      "        [ 0.6317, -0.6856],\n",
      "        [ 1.1547,  0.2496],\n",
      "        [-0.7057,  0.6179]]) None\n",
      "input.bias tensor([-0.2937,  0.3981, -0.1424,  0.3247]) None\n",
      "h1.weight tensor([[ 0.2926,  0.5125,  0.4736, -0.9082],\n",
      "        [ 0.5266, -0.4565,  0.0270,  0.3517],\n",
      "        [ 0.4932,  0.4992,  0.5931, -0.5217],\n",
      "        [-0.2104,  0.4303,  0.1053, -0.4576]]) None\n",
      "h1.bias tensor([-0.3574, -0.2993,  0.4584, -0.3924]) None\n",
      "out.weight tensor([[-0.1047,  0.4874,  0.6889, -0.0267],\n",
      "        [-0.6598,  0.1073, -0.3883, -0.4248]]) None\n",
      "out.bias tensor([-0.0052, -0.3698]) None\n",
      "epoch [2000/10000], loss:0.000067577172\n",
      "input.weight tensor([[ 0.5718,  0.1942],\n",
      "        [ 0.5030, -0.5312],\n",
      "        [ 1.2066,  0.1068],\n",
      "        [-0.5194,  0.4811]]) None\n",
      "input.bias tensor([-0.2160,  0.3757, -0.0324,  0.3234]) None\n",
      "h1.weight tensor([[ 0.2530,  0.5407,  0.5098, -0.9416],\n",
      "        [ 0.5743, -0.5433,  0.0696,  0.3913],\n",
      "        [ 0.5043,  0.4762,  0.6542, -0.5400],\n",
      "        [-0.2404,  0.4563,  0.1452, -0.4921]]) None\n",
      "h1.bias tensor([-0.3736, -0.3033,  0.4327, -0.4078]) None\n",
      "out.weight tensor([[-0.1060,  0.5438,  0.6748, -0.0775],\n",
      "        [-0.6968,  0.1301, -0.4099, -0.4707]]) None\n",
      "out.bias tensor([-0.0229, -0.3508]) None\n",
      "epoch [3000/10000], loss:0.000032973028\n",
      "input.weight tensor([[ 0.5506,  0.1390],\n",
      "        [ 0.3821, -0.4559],\n",
      "        [ 1.2326,  0.0682],\n",
      "        [-0.3759,  0.4202]]) None\n",
      "input.bias tensor([-0.1824,  0.3639,  0.0158,  0.3173]) None\n",
      "h1.weight tensor([[ 0.2394,  0.5633,  0.5528, -0.9665],\n",
      "        [ 0.5939, -0.5585,  0.0727,  0.4312],\n",
      "        [ 0.5253,  0.4800,  0.7061, -0.5401],\n",
      "        [-0.2394,  0.4775,  0.1922, -0.5201]]) None\n",
      "h1.bias tensor([-0.3786, -0.3066,  0.4126, -0.4113]) None\n",
      "out.weight tensor([[-0.1100,  0.5774,  0.6570, -0.0981],\n",
      "        [-0.7330,  0.1489, -0.4427, -0.5059]]) None\n",
      "out.bias tensor([-0.0361, -0.3409]) None\n",
      "epoch [4000/10000], loss:0.000026721712\n",
      "input.weight tensor([[ 0.5483,  0.1102],\n",
      "        [ 0.2927, -0.4186],\n",
      "        [ 1.2155,  0.0631],\n",
      "        [-0.2877,  0.3876]]) None\n",
      "input.bias tensor([-0.1612,  0.3570,  0.0196,  0.3083]) None\n",
      "h1.weight tensor([[ 0.2407,  0.5833,  0.5852, -0.9803],\n",
      "        [ 0.5967, -0.5597,  0.0666,  0.4500],\n",
      "        [ 0.5496,  0.4879,  0.7361, -0.5359],\n",
      "        [-0.2188,  0.4954,  0.2296, -0.5383]]) None\n",
      "h1.bias tensor([-0.3769, -0.3063,  0.4014, -0.4075]) None\n",
      "out.weight tensor([[-0.1127,  0.5953,  0.6454, -0.1110],\n",
      "        [-0.7639,  0.1656, -0.4774, -0.5324]]) None\n",
      "out.bias tensor([-0.0418, -0.3367]) None\n",
      "epoch [5000/10000], loss:0.000017552707\n",
      "input.weight tensor([[ 0.5520,  0.0905],\n",
      "        [ 0.2312, -0.3929],\n",
      "        [ 1.1804,  0.0640],\n",
      "        [-0.2290,  0.3696]]) None\n",
      "input.bias tensor([-0.1427,  0.3499,  0.0175,  0.3006]) None\n",
      "h1.weight tensor([[ 0.2468,  0.5977,  0.6094, -0.9862],\n",
      "        [ 0.5939, -0.5561,  0.0639,  0.4596],\n",
      "        [ 0.5742,  0.4896,  0.7565, -0.5284],\n",
      "        [-0.1902,  0.5072,  0.2594, -0.5501]]) None\n",
      "h1.bias tensor([-0.3731, -0.3042,  0.3928, -0.4015]) None\n",
      "out.weight tensor([[-0.1129,  0.6086,  0.6388, -0.1209],\n",
      "        [-0.7915,  0.1786, -0.5099, -0.5540]]) None\n",
      "out.bias tensor([-0.0450, -0.3334]) None\n"
     ]
    },
    {
     "ename": "KeyboardInterrupt",
     "evalue": "",
     "output_type": "error",
     "traceback": [
      "\u001b[0;31m---------------------------------------------------------------------------\u001b[0m",
      "\u001b[0;31mKeyboardInterrupt\u001b[0m                         Traceback (most recent call last)",
      "\u001b[0;32m<ipython-input-416-1b3b34a05172>\u001b[0m in \u001b[0;36m<module>\u001b[0;34m\u001b[0m\n\u001b[1;32m      1\u001b[0m \u001b[0;32mfor\u001b[0m \u001b[0mepoch\u001b[0m \u001b[0;32min\u001b[0m \u001b[0mrange\u001b[0m\u001b[0;34m(\u001b[0m\u001b[0mnum_epochs\u001b[0m\u001b[0;34m)\u001b[0m\u001b[0;34m:\u001b[0m\u001b[0;34m\u001b[0m\u001b[0;34m\u001b[0m\u001b[0m\n\u001b[1;32m      2\u001b[0m     \u001b[0;31m# Data for this epoch\u001b[0m\u001b[0;34m\u001b[0m\u001b[0;34m\u001b[0m\u001b[0;34m\u001b[0m\u001b[0m\n\u001b[0;32m----> 3\u001b[0;31m     \u001b[0mthetais\u001b[0m\u001b[0;34m,\u001b[0m \u001b[0mpis\u001b[0m\u001b[0;34m,\u001b[0m \u001b[0mthetafs\u001b[0m\u001b[0;34m,\u001b[0m \u001b[0mpfs\u001b[0m \u001b[0;34m=\u001b[0m \u001b[0msingle_pendulum_data\u001b[0m\u001b[0;34m(\u001b[0m\u001b[0;36m0.2\u001b[0m\u001b[0;34m,\u001b[0m \u001b[0mdt\u001b[0m\u001b[0;34m,\u001b[0m \u001b[0mN\u001b[0m \u001b[0;34m=\u001b[0m \u001b[0mn_train\u001b[0m\u001b[0;34m,\u001b[0m \u001b[0mmode\u001b[0m \u001b[0;34m=\u001b[0m \u001b[0;36m1\u001b[0m\u001b[0;34m)\u001b[0m\u001b[0;34m\u001b[0m\u001b[0;34m\u001b[0m\u001b[0m\n\u001b[0m\u001b[1;32m      4\u001b[0m \u001b[0;34m\u001b[0m\u001b[0m\n\u001b[1;32m      5\u001b[0m     \u001b[0;31m#d_p_theta_d_t = m*g/L *np.sin(thetais)\u001b[0m\u001b[0;34m\u001b[0m\u001b[0;34m\u001b[0m\u001b[0;34m\u001b[0m\u001b[0m\n",
      "\u001b[0;32m<ipython-input-405-308167afdbc7>\u001b[0m in \u001b[0;36msingle_pendulum_data\u001b[0;34m(T, dt, N, mode)\u001b[0m\n\u001b[1;32m     63\u001b[0m \u001b[0;34m\u001b[0m\u001b[0m\n\u001b[1;32m     64\u001b[0m     \u001b[0;32mfor\u001b[0m \u001b[0mi\u001b[0m \u001b[0;32min\u001b[0m \u001b[0mrange\u001b[0m\u001b[0;34m(\u001b[0m\u001b[0msteps\u001b[0m\u001b[0;34m)\u001b[0m\u001b[0;34m:\u001b[0m\u001b[0;34m\u001b[0m\u001b[0;34m\u001b[0m\u001b[0m\n\u001b[0;32m---> 65\u001b[0;31m         \u001b[0mthetas\u001b[0m\u001b[0;34m,\u001b[0m \u001b[0mps\u001b[0m \u001b[0;34m=\u001b[0m \u001b[0myoshida4\u001b[0m\u001b[0;34m(\u001b[0m\u001b[0mthetas\u001b[0m\u001b[0;34m,\u001b[0m \u001b[0mps\u001b[0m\u001b[0;34m,\u001b[0m \u001b[0mdt\u001b[0m\u001b[0;34m)\u001b[0m\u001b[0;34m\u001b[0m\u001b[0;34m\u001b[0m\u001b[0m\n\u001b[0m\u001b[1;32m     66\u001b[0m \u001b[0;34m\u001b[0m\u001b[0m\n\u001b[1;32m     67\u001b[0m     \u001b[0;31m#print('Integrated '+str(steps)+' time steps')\u001b[0m\u001b[0;34m\u001b[0m\u001b[0;34m\u001b[0m\u001b[0;34m\u001b[0m\u001b[0m\n",
      "\u001b[0;32m<ipython-input-405-308167afdbc7>\u001b[0m in \u001b[0;36myoshida4\u001b[0;34m(thetai, vi, dt)\u001b[0m\n\u001b[1;32m     25\u001b[0m     \u001b[0mvi2\u001b[0m \u001b[0;34m=\u001b[0m \u001b[0mvi1\u001b[0m \u001b[0;34m+\u001b[0m \u001b[0md2\u001b[0m \u001b[0;34m*\u001b[0m \u001b[0;34m(\u001b[0m\u001b[0;34m-\u001b[0m\u001b[0mg\u001b[0m\u001b[0;34m/\u001b[0m\u001b[0mL\u001b[0m\u001b[0;34m)\u001b[0m \u001b[0;34m*\u001b[0m \u001b[0mnp\u001b[0m\u001b[0;34m.\u001b[0m\u001b[0msin\u001b[0m\u001b[0;34m(\u001b[0m\u001b[0mthetai2\u001b[0m\u001b[0;34m)\u001b[0m\u001b[0;34m*\u001b[0m\u001b[0mdt\u001b[0m\u001b[0;34m\u001b[0m\u001b[0;34m\u001b[0m\u001b[0m\n\u001b[1;32m     26\u001b[0m     \u001b[0mthetai3\u001b[0m \u001b[0;34m=\u001b[0m \u001b[0mthetai2\u001b[0m \u001b[0;34m+\u001b[0m \u001b[0mc3\u001b[0m \u001b[0;34m*\u001b[0m \u001b[0mvi2\u001b[0m \u001b[0;34m*\u001b[0m \u001b[0mdt\u001b[0m\u001b[0;34m\u001b[0m\u001b[0;34m\u001b[0m\u001b[0m\n\u001b[0;32m---> 27\u001b[0;31m     \u001b[0mvi3\u001b[0m \u001b[0;34m=\u001b[0m \u001b[0mvi2\u001b[0m \u001b[0;34m+\u001b[0m \u001b[0md3\u001b[0m \u001b[0;34m*\u001b[0m \u001b[0;34m(\u001b[0m\u001b[0;34m-\u001b[0m\u001b[0mg\u001b[0m\u001b[0;34m/\u001b[0m\u001b[0mL\u001b[0m\u001b[0;34m)\u001b[0m \u001b[0;34m*\u001b[0m \u001b[0mnp\u001b[0m\u001b[0;34m.\u001b[0m\u001b[0msin\u001b[0m\u001b[0;34m(\u001b[0m\u001b[0mthetai3\u001b[0m\u001b[0;34m)\u001b[0m\u001b[0;34m*\u001b[0m\u001b[0mdt\u001b[0m\u001b[0;34m\u001b[0m\u001b[0;34m\u001b[0m\u001b[0m\n\u001b[0m\u001b[1;32m     28\u001b[0m \u001b[0;34m\u001b[0m\u001b[0m\n\u001b[1;32m     29\u001b[0m     \u001b[0mthetaf\u001b[0m \u001b[0;34m=\u001b[0m \u001b[0mthetai3\u001b[0m \u001b[0;34m+\u001b[0m \u001b[0mc4\u001b[0m \u001b[0;34m*\u001b[0m \u001b[0mvi3\u001b[0m \u001b[0;34m*\u001b[0m\u001b[0mdt\u001b[0m\u001b[0;34m\u001b[0m\u001b[0;34m\u001b[0m\u001b[0m\n",
      "\u001b[0;31mKeyboardInterrupt\u001b[0m: "
     ]
    }
   ],
   "source": [
    "for epoch in range(num_epochs):\n",
    "    # Data for this epoch\n",
    "    thetais, pis, thetafs, pfs = single_pendulum_data(0.2, dt, N = n_train, mode = 1)\n",
    "    \n",
    "    #d_p_theta_d_t = m*g/L *np.sin(thetais)\n",
    "    \n",
    "    #X = torch.Tensor(np.vstack((thetais, pis, d_p_theta_d_t)).T)\n",
    "    X = torch.Tensor(np.vstack((thetais, pis)).T)\n",
    "    y = torch.Tensor(np.vstack((thetafs, pfs)).T)\n",
    "    \n",
    "    ## TRAIN\n",
    "    for i in range(int(len(X)/batch_size)):\n",
    "        Xi = X[i*batch_size:(i+1)*batch_size]\n",
    "        yi = y[i*batch_size:(i+1)*batch_size]\n",
    "        # forward\n",
    "        output = model(Xi)\n",
    "        loss = criterion(output, yi)\n",
    "        \n",
    "        # backward\n",
    "        optimizer.zero_grad()\n",
    "        loss.backward()\n",
    "        optimizer.step()\n",
    "        \n",
    "    if( (epoch+1) % int(num_epochs/10) ==0):\n",
    "        print('epoch [{}/{}], loss:{:.12f}'.format(epoch + 1, num_epochs, loss.data))\n",
    "        for name, param in model.named_parameters():\n",
    "            if param.requires_grad:\n",
    "                print(name, param.data, param.data.grad)"
   ]
  },
  {
   "cell_type": "code",
   "execution_count": 417,
   "metadata": {},
   "outputs": [],
   "source": [
    "thetais, pis, thetafs, pfs = single_pendulum_data(0.1, dt, N = n_train, mode = 0)\n",
    "\n",
    "#d_p_theta_d_t = m*g/L *np.sin(thetais)\n",
    "\n",
    "#X = torch.Tensor(np.vstack((thetais, pis, d_p_theta_d_t)).T)\n",
    "X = torch.Tensor(np.vstack((thetais, pis)).T)\n",
    "y = torch.Tensor(np.vstack((thetafs, pfs)).T)\n",
    "\n",
    "## TRAIN\n",
    "i=0\n",
    "Xi = X[i*batch_size:(i+1)*batch_size]\n",
    "yi = y[i*batch_size:(i+1)*batch_size]\n",
    "# forward\n",
    "output = model(Xi)"
   ]
  },
  {
   "cell_type": "code",
   "execution_count": 419,
   "metadata": {},
   "outputs": [
    {
     "data": {
      "text/plain": [
       "tensor(1.0732, grad_fn=<MseLossBackward>)"
      ]
     },
     "execution_count": 419,
     "metadata": {},
     "output_type": "execute_result"
    }
   ],
   "source": [
    "criterion(output, yi)"
   ]
  },
  {
   "cell_type": "code",
   "execution_count": null,
   "metadata": {},
   "outputs": [],
   "source": []
  }
 ],
 "metadata": {
  "kernelspec": {
   "display_name": "torch_and_tensorflow",
   "language": "python",
   "name": "torch_and_tensorflow"
  },
  "language_info": {
   "codemirror_mode": {
    "name": "ipython",
    "version": 3
   },
   "file_extension": ".py",
   "mimetype": "text/x-python",
   "name": "python",
   "nbconvert_exporter": "python",
   "pygments_lexer": "ipython3",
   "version": "3.7.3"
  }
 },
 "nbformat": 4,
 "nbformat_minor": 2
}
