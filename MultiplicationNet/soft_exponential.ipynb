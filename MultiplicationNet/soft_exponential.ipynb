{
 "cells": [
  {
   "cell_type": "code",
   "execution_count": 2,
   "metadata": {},
   "outputs": [],
   "source": [
    "import torch\n",
    "import numpy as np\n",
    "import matplotlib.pyplot as plt\n",
    "from torch.utils.data import Dataset, DataLoader\n",
    "import os\n",
    "import torch.nn as nn\n",
    "import torch.nn.functional as F\n",
    "import math\n",
    "from torch.autograd import Variable\n",
    "\n",
    "\n",
    "torch.set_default_tensor_type(torch.DoubleTensor)\n",
    "\n",
    "%matplotlib inline"
   ]
  },
  {
   "cell_type": "code",
   "execution_count": 3,
   "metadata": {},
   "outputs": [],
   "source": [
    "## doesn't work yet; but maybe need not to..\n",
    "class soft_exponential_learnable(torch.nn.Module):\n",
    "    \n",
    "    # centered at a\n",
    "    def __init__(self, H):\n",
    "        super(soft_exponential, self).__init__()\n",
    "        \n",
    "        alpha = torch.zeros(H).reshape(1, H)\n",
    "\n",
    "        #torch.nn.init.xavier_uniform_(alpha)\n",
    "        \n",
    "        \n",
    "        \n",
    "        self.alpha = nn.Parameter(alpha)\n",
    "\n",
    "        self.H = H\n",
    "        \n",
    "    def forward(self, x):\n",
    "        \n",
    "        batch_size = x.size()[0]\n",
    "        ALPHA = self.alpha.expand(batch_size, -1).clone()\n",
    "        less_than_zero = ALPHA<0\n",
    "        greater_than_zero = ALPHA>0\n",
    "        x_result = x.clone()\n",
    "        \n",
    "        ALPHA_L = ALPHA[less_than_zero]\n",
    "        \n",
    "        epsilon_l = -1e-6\n",
    "        x_result[less_than_zero] = torch.max(-torch.log(1- ALPHA_L*(x[less_than_zero]+ALPHA_L))/ALPHA_L, ALPHA_L.new(ALPHA_L.shape).fill_(epsilon_l))\n",
    "\n",
    "        ALPHA_G = ALPHA[greater_than_zero]\n",
    "        \n",
    "        epsilon_u = 10e2\n",
    "        x_result[greater_than_zero] = torch.min(1/ALPHA_G * (torch.exp(ALPHA_G * x[greater_than_zero]) - 1) + ALPHA_G, ALPHA_G.new(ALPHA_G.shape).fill_(epsilon_u))\n",
    "        \n",
    "        return x_result\n"
   ]
  },
  {
   "cell_type": "code",
   "execution_count": 4,
   "metadata": {},
   "outputs": [],
   "source": [
    "class soft_exponential(torch.nn.Module):\n",
    "\n",
    "    def __init__(self, alpha = 0):\n",
    "        super(soft_exponential, self).__init__()\n",
    "        \n",
    "        #alpha = torch.Tensor([alpha])\n",
    "                \n",
    "        self.alpha = alpha#nn.Parameter(alpha)\n",
    "    \n",
    "    def forward(self, x):\n",
    "        if(self.alpha<0):\n",
    "            return -torch.log(1-self.alpha*(x+self.alpha))/self.alpha\n",
    "        elif(self.alpha==0):\n",
    "            return x\n",
    "        else:\n",
    "            return (torch.exp(self.alpha*x) - 1)/self.alpha + self.alpha\n"
   ]
  },
  {
   "cell_type": "code",
   "execution_count": 5,
   "metadata": {},
   "outputs": [],
   "source": [
    "def generate_data_positive(n = 100):\n",
    "    x = np.random.uniform(low = -4, high = 0, size = n)\n",
    "    y = np.random.uniform(low = -4, high = 0, size = n)\n",
    "    t = np.array([0.1] * n)\n",
    "    z = - x * (y**2) * t +  x**2 * (y) * (t**2) \n",
    "    return x, y, t, z\n"
   ]
  },
  {
   "cell_type": "code",
   "execution_count": 45,
   "metadata": {},
   "outputs": [],
   "source": [
    "def generate_data(n = 100):\n",
    "    \n",
    "    x = np.random.uniform(low = 0, high = 4, size = n)\n",
    "    y = np.random.uniform(low = 0, high = 4, size = n)\n",
    "    t = np.random.uniform(low = 0, high = 1, size = n)\n",
    "    \n",
    "    z = - x * (y**2) * t +  x** 4 * (y) * (t**2) +x**3 * y**3 * t**3\n",
    "    return x, y, t, z\n"
   ]
  },
  {
   "cell_type": "code",
   "execution_count": 14,
   "metadata": {},
   "outputs": [],
   "source": [
    "def generate_test_data(n = 100):\n",
    "    x = np.random.uniform(low = 4, high = 5, size = n)\n",
    "    y = np.random.uniform(low = 4, high = 5, size = n)\n",
    "    t = np.random.uniform(low = 0, high = 1, size = n)\n",
    "    \n",
    "    z = - x * (y**2) * t +  x** 4 * (y) * (t**2) +x**3 * y**3 * t**3\n",
    "    return x, y, t, z\n"
   ]
  },
  {
   "cell_type": "code",
   "execution_count": 15,
   "metadata": {},
   "outputs": [],
   "source": [
    "class MultiplicationNet(torch.nn.Module):\n",
    "    def __init__(self, D_in, H, D_out):\n",
    "        super(MultiplicationNet, self).__init__()\n",
    "        \n",
    "        self.log = soft_exponential(-1)\n",
    "        \n",
    "        self.input = nn.Linear(H, D_in, bias = False)\n",
    "        \n",
    "        self.input.weight = nn.Parameter(torch.randint(0,5,( H, D_in)).double())\n",
    "        \n",
    "        #self.input = nn.Linear(D_in, H, bias = False)\n",
    "        \n",
    "        self.exp = soft_exponential(1)\n",
    "        \n",
    "        self.out = nn.Linear(H, D_out, bias = False)\n",
    "        \n",
    "        self.out.weight = nn.Parameter(torch.ones((D_out, H)).double())\n",
    "        \n",
    "\n",
    "    def forward(self, X):\n",
    "        X = self.log(X)\n",
    "        X = self.input(X)\n",
    "        X = self.exp(X)\n",
    "\n",
    "        X = self.out(X)\n",
    "        return X"
   ]
  },
  {
   "cell_type": "code",
   "execution_count": 30,
   "metadata": {},
   "outputs": [],
   "source": [
    "class MultiplicationNet_skip(torch.nn.Module):\n",
    "    \n",
    "    def __init__(self, D_in, H, D_out):\n",
    "        super(MultiplicationNet_skip, self).__init__()\n",
    "        \n",
    "        #self.input0 = nn.Linear(D_in, D_in)\n",
    "        \n",
    "        self.log = soft_exponential(-1)\n",
    "        \n",
    "        self.input = nn.Linear(D_in, H, bias = False)\n",
    "        self.input.weight = nn.Parameter(torch.randint(0,4,(H, D_in)).double())\n",
    "        \n",
    "        self.exp = soft_exponential(1)\n",
    "        \n",
    "        self.h1 = nn.Linear(H, D_in, bias = False)\n",
    "        self.h1.weight = nn.Parameter(torch.ones((D_in, H)).double())\n",
    "        \n",
    "        self.h2 = nn.Linear((D_in *2), (D_in *2))\n",
    "\n",
    "        self.out = nn.Linear((D_in *2), D_out)\n",
    "        \n",
    "\n",
    "    def forward(self, X):\n",
    "        \n",
    "        #X = self.input0(X)\n",
    "        \n",
    "        X1 = X\n",
    "        ## SKIP ##\n",
    "        ###### multiplication block #####\n",
    "        X = self.log(torch.FloatTensor.abs_(X))\n",
    "\n",
    "        X = self.input(X)\n",
    "        \n",
    "        X = self.exp(X)\n",
    "        ###### multiplication block #####\n",
    "        X = self.h1(torch.relu(X))\n",
    "\n",
    "        X = torch.cat((X, X1), 1)\n",
    "        \n",
    "        X = torch.relu(self.h2(X))\n",
    "        \n",
    "        X = self.out(X)\n",
    "        \n",
    "        return X"
   ]
  },
  {
   "cell_type": "code",
   "execution_count": 17,
   "metadata": {},
   "outputs": [],
   "source": [
    "class FFNet(torch.nn.Module):\n",
    "    def __init__(self, D_in, H, D_out):\n",
    "        super(FFNet, self).__init__()\n",
    "                \n",
    "        self.input = nn.Linear(D_in,H)\n",
    "        \n",
    "        self.h1 = nn.Linear(H,H)\n",
    "        self.h2 = nn.Linear(H,H)\n",
    "                                \n",
    "        self.out = nn.Linear(H, D_out)\n",
    "                \n",
    "\n",
    "    def forward(self, X):\n",
    "        X = torch.relu(self.input(X))\n",
    "        X = torch.relu(self.h1(X))\n",
    "        X = self.h2(X)\n",
    "        X = self.out(X)\n",
    "        return X"
   ]
  },
  {
   "cell_type": "code",
   "execution_count": 46,
   "metadata": {},
   "outputs": [],
   "source": [
    "num_epochs = 200000\n",
    "n_train = 300\n",
    "batch_size = 30\n",
    "learning_rate = 1e-4"
   ]
  },
  {
   "cell_type": "code",
   "execution_count": 47,
   "metadata": {},
   "outputs": [],
   "source": [
    "model = MultiplicationNet(3, 16, 1)\n",
    "#model = FFNet(3,32,1)\n",
    "MSE= nn.MSELoss()"
   ]
  },
  {
   "cell_type": "code",
   "execution_count": 61,
   "metadata": {},
   "outputs": [],
   "source": [
    "optimizer = torch.optim.Adam(model.parameters(), lr=5*learning_rate, weight_decay=1e-5)"
   ]
  },
  {
   "cell_type": "code",
   "execution_count": 48,
   "metadata": {},
   "outputs": [
    {
     "name": "stdout",
     "output_type": "stream",
     "text": [
      "input.weight tensor([[0., 0., 3.],\n",
      "        [0., 3., 4.],\n",
      "        [4., 2., 4.],\n",
      "        [4., 4., 2.],\n",
      "        [1., 3., 1.],\n",
      "        [1., 1., 3.],\n",
      "        [3., 1., 3.],\n",
      "        [3., 1., 2.],\n",
      "        [1., 3., 2.],\n",
      "        [3., 1., 2.],\n",
      "        [3., 0., 3.],\n",
      "        [0., 1., 1.],\n",
      "        [2., 4., 2.],\n",
      "        [1., 0., 2.],\n",
      "        [0., 0., 3.],\n",
      "        [2., 1., 4.]])\n",
      "out.weight tensor([[1., 1., 1., 1., 1., 1., 1., 1., 1., 1., 1., 1., 1., 1., 1., 1.]])\n"
     ]
    }
   ],
   "source": [
    "for name, param in model.named_parameters():\n",
    "    if param.requires_grad:\n",
    "        print (name, param.data)"
   ]
  },
  {
   "cell_type": "code",
   "execution_count": 62,
   "metadata": {},
   "outputs": [
    {
     "name": "stdout",
     "output_type": "stream",
     "text": [
      "epoch [20000/200000], loss:0.005600497184\n",
      "input.weight tensor([[-0.4025, -0.3470,  0.4789],\n",
      "        [ 2.1051,  0.4703,  1.7750],\n",
      "        [ 3.3301,  1.6379,  2.7352],\n",
      "        [ 3.1416,  3.0405,  2.9783],\n",
      "        [ 0.9749,  2.1009,  0.9707],\n",
      "        [-0.4259, -0.3525,  0.4794],\n",
      "        [ 2.4913,  0.5675,  3.0960],\n",
      "        [ 3.9173,  0.9528,  1.9656],\n",
      "        [ 1.6791,  2.9993,  3.0581],\n",
      "        [ 3.9173,  0.9528,  1.9656],\n",
      "        [ 2.8232,  1.1862,  2.7147],\n",
      "        [ 1.5348,  1.2391,  1.3486],\n",
      "        [ 2.4664,  2.9712,  3.0679],\n",
      "        [ 2.7731,  0.5419,  1.6973],\n",
      "        [-0.4025, -0.3470,  0.4789],\n",
      "        [-0.4079, -0.3503,  0.4614]]) None\n",
      "out.weight tensor([[-1.4684e-04,  5.5898e-01,  2.7223e-01,  5.7857e-01, -7.7356e-01,\n",
      "         -2.3864e-04,  4.9209e-02,  5.8457e-01, -1.7257e-01,  5.8457e-01,\n",
      "         -4.3494e-01, -3.0401e-01,  5.6576e-01, -5.0780e-01, -1.4684e-04,\n",
      "         -2.7771e-04]]) None\n",
      "epoch [40000/200000], loss:0.013194807690\n",
      "input.weight tensor([[-0.3592, -0.3818,  0.6030],\n",
      "        [ 1.9980,  0.0927,  2.1302],\n",
      "        [ 3.3120,  1.6003,  2.7870],\n",
      "        [ 3.1470,  3.0324,  2.9669],\n",
      "        [ 0.9830,  2.1259,  0.9787],\n",
      "        [-0.0586, -0.2959,  0.9312],\n",
      "        [-0.0394, -0.2966,  0.9613],\n",
      "        [ 3.9363,  0.9653,  1.9705],\n",
      "        [ 1.5508,  2.8939,  3.1267],\n",
      "        [ 3.9363,  0.9653,  1.9705],\n",
      "        [ 2.7271,  1.1948,  2.7163],\n",
      "        [ 1.4598,  1.4178,  1.0803],\n",
      "        [ 2.4890,  2.9686,  3.0904],\n",
      "        [ 2.6981,  0.5886,  1.5790],\n",
      "        [-0.3592, -0.3818,  0.6030],\n",
      "        [-0.0640, -0.3016,  1.0249]]) None\n",
      "out.weight tensor([[-0.0017,  0.0316,  0.2145,  0.5860, -0.7701,  0.0076,  0.0082,  0.5518,\n",
      "         -0.1543,  0.5518, -0.3092, -0.1191,  0.5314, -0.1981, -0.0017,  0.0080]]) None\n",
      "epoch [60000/200000], loss:0.007427459082\n",
      "input.weight tensor([[-0.3309, -0.3014,  0.3877],\n",
      "        [-0.3142, -0.3024,  0.4078],\n",
      "        [ 3.2896,  1.5685,  2.8251],\n",
      "        [ 3.1415,  3.0207,  2.9682],\n",
      "        [ 1.0031,  2.1026,  0.9954],\n",
      "        [-0.3166, -0.2932,  0.3883],\n",
      "        [-0.2585,  0.0397, -0.1382],\n",
      "        [ 3.9701,  0.9825,  1.9802],\n",
      "        [ 1.4484,  2.8015,  3.1616],\n",
      "        [ 3.9701,  0.9825,  1.9802],\n",
      "        [ 2.6055,  1.1706,  2.6767],\n",
      "        [ 1.3422,  1.4280,  0.9543],\n",
      "        [ 2.5313,  2.9748,  3.0830],\n",
      "        [ 2.5071,  0.5757,  1.2502],\n",
      "        [-0.3309, -0.3014,  0.3877],\n",
      "        [-0.3245, -0.2728,  0.3025]]) None\n",
      "out.weight tensor([[ 2.4726e-04,  2.4709e-04,  1.4533e-01,  5.9772e-01, -8.0546e-01,\n",
      "          1.9200e-04, -2.7620e-03,  5.1531e-01, -1.5102e-01,  5.1531e-01,\n",
      "         -2.1600e-01, -1.0993e-01,  5.0532e-01, -5.0708e-02,  2.4726e-04,\n",
      "          1.7446e-04]]) None\n",
      "epoch [80000/200000], loss:0.003568170933\n",
      "input.weight tensor([[-0.2610, -0.2275,  0.3446],\n",
      "        [-0.2590, -0.2260,  0.3208],\n",
      "        [ 3.2349,  1.4985,  2.8732],\n",
      "        [ 3.1323,  3.0114,  2.9735],\n",
      "        [ 1.0192,  2.0839,  1.0079],\n",
      "        [-0.0235,  0.0514,  0.1366],\n",
      "        [-0.0488,  0.0612,  0.1447],\n",
      "        [ 3.9930,  0.9923,  1.9884],\n",
      "        [ 1.3979,  2.7283,  3.0961],\n",
      "        [ 3.9930,  0.9923,  1.9884],\n",
      "        [ 2.4183,  1.0878,  2.6640],\n",
      "        [ 1.2273,  1.3765,  0.8642],\n",
      "        [ 2.5799,  2.9760,  3.0637],\n",
      "        [-0.2590, -0.4388,  0.5590],\n",
      "        [-0.2610, -0.2275,  0.3446],\n",
      "        [-0.4055, -0.2863,  0.4888]]) None\n",
      "out.weight tensor([[-8.6049e-05, -1.1991e-04,  8.0199e-02,  6.1062e-01, -8.2976e-01,\n",
      "         -3.7465e-03, -3.6912e-03,  4.9842e-01, -1.4712e-01,  4.9842e-01,\n",
      "         -1.0745e-01, -1.1112e-01,  4.8443e-01,  7.1570e-05, -8.6049e-05,\n",
      "          1.5907e-06]]) None\n",
      "epoch [100000/200000], loss:0.009711002027\n",
      "input.weight tensor([[-0.1012, -0.0929,  0.2798],\n",
      "        [-0.1016, -0.0941,  0.2890],\n",
      "        [ 2.9447,  1.1660,  3.3488],\n",
      "        [ 3.1223,  3.0032,  2.9841],\n",
      "        [ 1.0273,  2.0702,  1.0067],\n",
      "        [-0.1583, -0.1450,  0.3791],\n",
      "        [-0.0768,  0.1073,  0.0795],\n",
      "        [ 3.9979,  0.9981,  1.9988],\n",
      "        [ 1.3826,  2.6534,  2.9835],\n",
      "        [ 3.9979,  0.9981,  1.9988],\n",
      "        [ 0.9352, -0.1478,  2.2998],\n",
      "        [ 1.1064,  1.3472,  0.8209],\n",
      "        [ 2.6282,  2.9747,  3.0327],\n",
      "        [-0.0867, -0.0764,  0.2760],\n",
      "        [-0.1012, -0.0929,  0.2798],\n",
      "        [-0.1290, -0.1163,  0.3351]]) None\n",
      "out.weight tensor([[-0.0030, -0.0032,  0.0075,  0.6226, -0.8538, -0.0024, -0.0034,  0.5002,\n",
      "         -0.1422,  0.5002, -0.0040, -0.0881,  0.4672, -0.0031, -0.0030, -0.0028]]) None\n",
      "epoch [120000/200000], loss:0.051783175689\n",
      "input.weight tensor([[-0.0047, -0.0078,  0.3567],\n",
      "        [-0.2934, -0.2493,  0.3834],\n",
      "        [-0.1458, -0.1405,  0.4205],\n",
      "        [ 3.1123,  3.0044,  2.9866],\n",
      "        [ 1.0266,  2.0503,  1.0019],\n",
      "        [-0.3325, -0.2930,  0.4556],\n",
      "        [-0.3827, -0.3523,  0.4768],\n",
      "        [ 3.9970,  0.9983,  2.0004],\n",
      "        [ 1.3658,  2.5898,  2.7903],\n",
      "        [ 3.9970,  0.9983,  2.0004],\n",
      "        [-0.2767, -0.2679,  0.4611],\n",
      "        [ 0.9550,  1.3000,  0.7206],\n",
      "        [ 2.6632,  2.9726,  3.0258],\n",
      "        [ 0.1307,  0.1362,  0.3038],\n",
      "        [-0.0047, -0.0078,  0.3567],\n",
      "        [-0.3444, -0.2915,  0.4154]]) None\n",
      "out.weight tensor([[-6.4687e-03,  1.7690e-04, -1.8197e-03,  6.2831e-01, -8.8263e-01,\n",
      "          7.0902e-05, -1.7677e-03,  5.0135e-01, -1.3375e-01,  5.0135e-01,\n",
      "          5.0228e-05, -5.4179e-02,  4.4757e-01, -1.2709e-02, -6.4687e-03,\n",
      "          1.0886e-04]]) None\n",
      "epoch [140000/200000], loss:0.002714276878\n",
      "input.weight tensor([[-0.2153, -0.2120,  0.3854],\n",
      "        [-0.2606, -0.2720,  0.4427],\n",
      "        [ 0.0498,  0.0223,  0.2096],\n",
      "        [ 3.1043,  3.0061,  2.9901],\n",
      "        [ 1.0175,  2.0283,  0.9859],\n",
      "        [-0.1305, -0.1475,  0.3872],\n",
      "        [-0.2617, -0.2783,  0.4431],\n",
      "        [ 3.9994,  0.9985,  1.9998],\n",
      "        [ 1.3272,  2.5260,  2.6485],\n",
      "        [ 3.9994,  0.9985,  1.9998],\n",
      "        [-0.0333, -0.0748,  0.2622],\n",
      "        [-0.2754, -0.1850,  0.5932],\n",
      "        [ 2.6922,  2.9697,  3.0154],\n",
      "        [-0.0213, -0.0372,  0.2411],\n",
      "        [-0.2153, -0.2120,  0.3854],\n",
      "        [-0.2746, -0.2367,  0.4054]]) None\n",
      "out.weight tensor([[-4.4935e-04,  8.8444e-05, -7.3886e-03,  6.3306e-01, -9.1666e-01,\n",
      "         -1.7362e-03,  1.2263e-04,  4.9995e-01, -1.2709e-01,  4.9995e-01,\n",
      "         -6.5057e-03,  3.4305e-05,  4.3028e-01, -6.2105e-03, -4.4935e-04,\n",
      "          2.2782e-06]]) None\n",
      "epoch [160000/200000], loss:0.023466756938\n",
      "input.weight tensor([[-0.1444, -0.1330,  0.2468],\n",
      "        [-0.1697, -0.1496,  0.2368],\n",
      "        [ 0.1154,  0.0939,  0.1581],\n",
      "        [ 3.0973,  3.0084,  2.9929],\n",
      "        [ 1.0173,  2.0242,  0.9840],\n",
      "        [-0.1799, -0.1647,  0.2373],\n",
      "        [-0.1614, -0.1534,  0.2749],\n",
      "        [ 4.0000,  0.9988,  2.0006],\n",
      "        [ 1.2791,  2.4687,  2.5422],\n",
      "        [ 4.0000,  0.9988,  2.0006],\n",
      "        [-0.1932, -0.1771,  0.2673],\n",
      "        [ 0.1404,  0.0960,  0.2550],\n",
      "        [ 2.7169,  2.9659,  3.0077],\n",
      "        [-0.1616, -0.1499,  0.2737],\n",
      "        [-0.1444, -0.1330,  0.2468],\n",
      "        [-0.1548, -0.1439,  0.2606]]) None\n",
      "out.weight tensor([[-0.0024, -0.0022, -0.0028,  0.6374, -0.9168, -0.0021, -0.0022,  0.4997,\n",
      "         -0.1160,  0.4997, -0.0018, -0.0017,  0.4150, -0.0021, -0.0024, -0.0019]]) None\n",
      "epoch [180000/200000], loss:0.004793272500\n",
      "input.weight tensor([[ 2.2228e-02, -1.5885e-03,  3.0298e-01],\n",
      "        [-4.3465e-01, -3.7907e-01,  2.7221e-01],\n",
      "        [-2.8332e-01, -2.6057e-01,  4.3211e-01],\n",
      "        [ 3.0908e+00,  3.0100e+00,  2.9985e+00],\n",
      "        [ 1.0127e+00,  2.0239e+00,  9.9401e-01],\n",
      "        [-1.9576e-01, -1.8573e-01,  4.2265e-01],\n",
      "        [-2.2238e-01, -2.0394e-01,  4.0518e-01],\n",
      "        [ 4.0009e+00,  9.9942e-01,  2.0007e+00],\n",
      "        [ 1.2230e+00,  2.4101e+00,  2.4419e+00],\n",
      "        [ 4.0009e+00,  9.9942e-01,  2.0007e+00],\n",
      "        [ 2.1338e-02, -1.0871e-03,  2.8863e-01],\n",
      "        [-2.3088e-01, -2.2995e-01,  4.7061e-01],\n",
      "        [ 2.7378e+00,  2.9618e+00,  3.0030e+00],\n",
      "        [-2.5001e-01, -2.2018e-01,  3.9016e-01],\n",
      "        [ 2.2228e-02, -1.5885e-03,  3.0298e-01],\n",
      "        [-2.3008e-01, -2.0701e-01,  4.2065e-01]]) None\n",
      "out.weight tensor([[-0.0048, -0.0016, -0.0021,  0.6421, -0.9148, -0.0027, -0.0026,  0.4988,\n",
      "         -0.1040,  0.4988, -0.0049, -0.0023,  0.4030, -0.0025, -0.0048, -0.0025]]) None\n",
      "epoch [200000/200000], loss:0.001400858284\n",
      "input.weight tensor([[-0.4240, -0.4091,  0.4962],\n",
      "        [-0.4311, -0.4256,  0.4755],\n",
      "        [-0.4487, -0.4709,  0.4061],\n",
      "        [ 3.0841,  3.0121,  2.9971],\n",
      "        [ 1.0130,  2.0284,  0.9863],\n",
      "        [-0.1292, -0.1441,  0.2621],\n",
      "        [-0.0909, -0.1411,  0.3224],\n",
      "        [ 4.0010,  0.9991,  2.0001],\n",
      "        [ 1.1730,  2.3558,  2.3367],\n",
      "        [ 4.0010,  0.9991,  2.0001],\n",
      "        [ 0.0811,  0.0315,  0.2214],\n",
      "        [-0.2584, -0.2448,  0.3975],\n",
      "        [ 2.7561,  2.9584,  2.9966],\n",
      "        [ 0.0322, -0.0950,  0.3472],\n",
      "        [-0.4240, -0.4091,  0.4962],\n",
      "        [-0.4046, -0.3908,  0.5188]]) None\n",
      "out.weight tensor([[ 2.1020e-04,  4.2132e-04,  1.0798e-03,  6.4674e-01, -9.2105e-01,\n",
      "         -3.1264e-03, -3.8271e-03,  4.9885e-01, -9.8899e-02,  4.9885e-01,\n",
      "         -4.3537e-03, -9.4984e-04,  3.9288e-01, -3.3222e-03,  2.1020e-04,\n",
      "          1.6092e-04]]) None\n"
     ]
    }
   ],
   "source": [
    "loss_datas = []\n",
    "for epoch in range(num_epochs):\n",
    "    xx,yy,tt,zz = generate_data(n_train)\n",
    "    X = torch.Tensor(np.vstack((xx,yy,tt)).T)\n",
    "    y = torch.Tensor(zz.reshape(-1,1))\n",
    "    for i in range(int(len(X)/batch_size)):\n",
    "        Xi = X[i*batch_size:(i+1)*batch_size]\n",
    "        yi = y[i*batch_size:(i+1)*batch_size]\n",
    "        # forward\n",
    "        output = model(Xi)\n",
    "        loss = MSE(output, yi) + model.out.weight.norm(1) * (MSE(output,yi).data/model.out.weight.norm(1).data) # L1 regularization\n",
    "        loss_datas.append(loss.data)\n",
    "        # backward\n",
    "        optimizer.zero_grad()\n",
    "        loss.backward()\n",
    "        optimizer.step()\n",
    "        \n",
    "    if( (epoch+1) % int(num_epochs/10) ==0):\n",
    "        print('epoch [{}/{}], loss:{:.12f}'.format(epoch + 1, num_epochs, loss.data))\n",
    "        for name, param in model.named_parameters():\n",
    "            if param.requires_grad:\n",
    "                print(name, param.data, param.data.grad)"
   ]
  },
  {
   "cell_type": "code",
   "execution_count": 63,
   "metadata": {},
   "outputs": [
    {
     "name": "stdout",
     "output_type": "stream",
     "text": [
      "input.weight tensor([[-0.4240, -0.4091,  0.4962],\n",
      "        [-0.4311, -0.4256,  0.4755],\n",
      "        [-0.4487, -0.4709,  0.4061],\n",
      "        [ 3.0841,  3.0121,  2.9971],\n",
      "        [ 1.0130,  2.0284,  0.9863],\n",
      "        [-0.1292, -0.1441,  0.2621],\n",
      "        [-0.0909, -0.1411,  0.3224],\n",
      "        [ 4.0010,  0.9991,  2.0001],\n",
      "        [ 1.1730,  2.3558,  2.3367],\n",
      "        [ 4.0010,  0.9991,  2.0001],\n",
      "        [ 0.0811,  0.0315,  0.2214],\n",
      "        [-0.2584, -0.2448,  0.3975],\n",
      "        [ 2.7561,  2.9584,  2.9966],\n",
      "        [ 0.0322, -0.0950,  0.3472],\n",
      "        [-0.4240, -0.4091,  0.4962],\n",
      "        [-0.4046, -0.3908,  0.5188]]) None\n",
      "out.weight tensor([[ 2.1020e-04,  4.2132e-04,  1.0798e-03,  6.4674e-01, -9.2105e-01,\n",
      "         -3.1264e-03, -3.8271e-03,  4.9885e-01, -9.8899e-02,  4.9885e-01,\n",
      "         -4.3537e-03, -9.4984e-04,  3.9288e-01, -3.3222e-03,  2.1020e-04,\n",
      "          1.6092e-04]]) None\n"
     ]
    }
   ],
   "source": [
    "for name, param in model.named_parameters():\n",
    "    if param.requires_grad:\n",
    "        print (name, param.data, param.data.grad)"
   ]
  },
  {
   "cell_type": "code",
   "execution_count": 960,
   "metadata": {},
   "outputs": [
    {
     "name": "stdout",
     "output_type": "stream",
     "text": [
      "2273\n",
      "433\n"
     ]
    }
   ],
   "source": [
    "def get_n_params(model):\n",
    "    pp=0\n",
    "    for p in list(model.parameters()):\n",
    "        nn=1\n",
    "        for s in list(p.size()):\n",
    "            nn = nn*s\n",
    "        pp += nn\n",
    "    return pp\n",
    "\n",
    "print(get_n_params(model_FF))\n",
    "print(get_n_params(model_skip))"
   ]
  },
  {
   "cell_type": "code",
   "execution_count": 954,
   "metadata": {},
   "outputs": [
    {
     "name": "stdout",
     "output_type": "stream",
     "text": [
      "test: tensor(17.0362)\n",
      "train: tensor(0.0001)\n",
      "test: tensor(0.1459)\n",
      "train: tensor(0.0007)\n"
     ]
    }
   ],
   "source": [
    "def test_vs_train_data(model):\n",
    "    xx,yy,tt,zz = generate_test_data(n_train)\n",
    "    X = torch.Tensor(np.vstack((xx,yy,tt)).T)\n",
    "    y = torch.Tensor(zz.reshape(-1,1))\n",
    "\n",
    "    # forward\n",
    "    output = model(X)\n",
    "    loss1 = MSE(output, y)\n",
    "    \n",
    "    xx,yy,tt,zz = generate_data(n_train)\n",
    "    X = torch.Tensor(np.vstack((xx,yy,tt)).T)\n",
    "    y = torch.Tensor(zz.reshape(-1,1))\n",
    "\n",
    "    # forward\n",
    "    output = model(X)\n",
    "    loss2 = MSE(output, y)\n",
    "\n",
    "    print('test: '+str(loss1.data))\n",
    "    print('train: '+str(loss2.data))\n",
    "\n",
    "test_vs_train_data(model_FF)\n",
    "\n",
    "test_vs_train_data(model_skip)"
   ]
  },
  {
   "cell_type": "code",
   "execution_count": 950,
   "metadata": {},
   "outputs": [],
   "source": [
    "loss_data_FF = loss_datas"
   ]
  },
  {
   "cell_type": "code",
   "execution_count": 962,
   "metadata": {},
   "outputs": [
    {
     "data": {
      "text/plain": [
       "<matplotlib.legend.Legend at 0x12537b588>"
      ]
     },
     "execution_count": 962,
     "metadata": {},
     "output_type": "execute_result"
    },
    {
     "data": {
      "image/png": "[encoded data removed]",
      "text/plain": [
       "<Figure size 432x288 with 1 Axes>"
      ]
     },
     "metadata": {
      "needs_background": "light"
     },
     "output_type": "display_data"
    }
   ],
   "source": [
    "# Multiplication Net parameters = 30 + 10 = 40\n",
    "\n",
    "plt.title('Log Loss')\n",
    "plt.plot(np.log(loss_data_skip[:]),color = 'b',alpha = 0.7, label = 'FF')\n",
    "\n",
    "# FF model parameters = 30 + 10 + 100 + 10 + 10 + 1 = 161\n",
    "plt.plot(np.log(loss_data_FF[:]),color = 'k',alpha = 0.7, label = 'log & exp')\n",
    "\n",
    "# skip model parameters = 30 + 30 + 7 = 67\n",
    "#plt.plot(np.log(loss_data_skip[:]),color = 'r',alpha = 0.7)\n",
    "plt.legend()\n",
    "\n"
   ]
  },
  {
   "cell_type": "code",
   "execution_count": 557,
   "metadata": {},
   "outputs": [
    {
     "data": {
      "text/plain": [
       "[<matplotlib.lines.Line2D at 0x13b5d0198>]"
      ]
     },
     "execution_count": 557,
     "metadata": {},
     "output_type": "execute_result"
    },
    {
     "data": {
      "image/png": "[encoded data removed]",
      "text/plain": [
       "<Figure size 432x288 with 1 Axes>"
      ]
     },
     "metadata": {
      "needs_background": "light"
     },
     "output_type": "display_data"
    }
   ],
   "source": [
    "# Multiplication Net parameters = 30 + 10 = 40\n",
    "\n",
    "plt.plot(np.log(loss_data_non_skip[:]),color = 'b',alpha = 0.7)\n",
    "\n",
    "# FF model parameters = 30 + 10 + 100 + 10 + 10 + 1 = 161\n",
    "plt.plot(np.log(loss_data_FF[:]),color = 'k',alpha = 0.7)\n",
    "\n",
    "# skip model parameters = 30 + 30 + 7 = 67\n",
    "plt.plot(np.log(loss_data_skip[:]),color = 'r',alpha = 0.7)\n"
   ]
  },
  {
   "cell_type": "code",
   "execution_count": null,
   "metadata": {},
   "outputs": [],
   "source": []
  }
 ],
 "metadata": {
  "kernelspec": {
   "display_name": "torch_and_tensorflow",
   "language": "python",
   "name": "torch_and_tensorflow"
  },
  "language_info": {
   "codemirror_mode": {
    "name": "ipython",
    "version": 3
   },
   "file_extension": ".py",
   "mimetype": "text/x-python",
   "name": "python",
   "nbconvert_exporter": "python",
   "pygments_lexer": "ipython3",
   "version": "3.7.3"
  }
 },
 "nbformat": 4,
 "nbformat_minor": 2
}
